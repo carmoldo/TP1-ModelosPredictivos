{
  "nbformat": 4,
  "nbformat_minor": 0,
  "metadata": {
    "colab": {
      "provenance": [],
      "include_colab_link": true
    },
    "kernelspec": {
      "name": "python3",
      "display_name": "Python 3"
    },
    "language_info": {
      "name": "python"
    }
  },
  "cells": [
    {
      "cell_type": "markdown",
      "metadata": {
        "id": "view-in-github",
        "colab_type": "text"
      },
      "source": [
        "<a href=\"https://colab.research.google.com/github/carmoldo/TP1-ModelosPredictivos/blob/main/Trabajo_Pr%C3%A1ctico_Redes_Neuronales.ipynb\" target=\"_parent\"><img src=\"https://colab.research.google.com/assets/colab-badge.svg\" alt=\"Open In Colab\"/></a>"
      ]
    },
    {
      "cell_type": "markdown",
      "source": [
        "El objetivo de este trabajo es plantear una red neuronal con una capa de entrada con \"n\" neuronas y una capa de salida con \"m\" salidas para resolver un problema de su propía creación.\n",
        "Se evaluara la correcta implementación de la red neuronal y la explicación de los elementos de la teoría vistos en clase.\n",
        "\n",
        "**A partir del siguiente Notebook visto en clase SNN, se pide:**\n",
        "Plantear un problema a resolver con una red neuronal de una capa de entrada y una capa de salida. Las salidas no deben ser excluyentes, es decir, pueden pertenecer a mas de una clase. Algunos ejemplos son: A partir de caracteristicas de una vivienda, determinar si la vivienda es de algun estilo (moderna, agradable, tradicional). Pueden generar ustedes un pequeño dataset para utilizar o buscar en Kaggle.\n",
        "Modificar la estructura de la red neuronal para que admita \"n\" neuronas de entrada y \"m\" neuronas de salida.\n",
        "Ademas deben indicar los elementos de la teoría que vimos en clase que identifiquen en el código y explicarlos (Estructura de la Red, Función de activación, Forward propagation, Back propagation y Gradiente descendente)."
      ],
      "metadata": {
        "id": "mGTsWgL_9nS9"
      }
    },
    {
      "cell_type": "code",
      "source": [
        "import numpy as np\n",
        "import pandas as pd\n",
        "import matplotlib.pyplot as plt\n",
        "from IPython.display import HTML, display\n",
        "import tabulate\n",
        "import networkx as nx\n",
        "from random import random as rand\n",
        "import itertools\n",
        "from sklearn.model_selection import train_test_split\n",
        "from sklearn.preprocessing import LabelEncoder\n",
        "from keras.models import Sequential\n",
        "from keras.layers import Dense\n",
        "from keras.utils import to_categorical\n",
        "\n",
        "def sigmoid(x):\n",
        "    return 1 / (1 + np.exp(-x))\n",
        "\n",
        "def sigmoid_derivative(x):\n",
        "    return x * (1 - x)"
      ],
      "metadata": {
        "id": "4q0HZf9c_vlm"
      },
      "execution_count": null,
      "outputs": []
    },
    {
      "cell_type": "markdown",
      "source": [
        "La función sigmoide transforma un valor real en el rango (0, 1), lo que es útil para modelar la probabilidad de que una neurona se active.\n",
        "\n",
        "Y la 'sigmoid_derivate' calcula la derivada de la función sigmoid. Se utiliza en el proceso de retropropagación para ajustar los pesos de la red durante el entrenamiento."
      ],
      "metadata": {
        "id": "CeMgnKfwUvs_"
      }
    },
    {
      "cell_type": "code",
      "source": [
        "df = pd.read_csv(\"https://raw.githubusercontent.com/carmoldo/TP1-ModelosPredictivos/main/seattle-weather.csv\")\n",
        "\n",
        "X = df[['temp_max', 'temp_min', 'wind', 'precipitation']].values\n",
        "# Codificar las etiquetas (si no se han codificado previamente)\n",
        "label_encoder = LabelEncoder()\n",
        "y = label_encoder.fit_transform(df['weather'])"
      ],
      "metadata": {
        "id": "Sh6by0sOFqf0"
      },
      "execution_count": null,
      "outputs": []
    },
    {
      "cell_type": "code",
      "source": [
        "# Dividir el conjunto de datos en entrenamiento y prueba\n",
        "X_train, X_test, y_train, y_test = train_test_split(X, y, test_size=0.2, random_state=42)\n",
        "\n",
        "# Inicialización de los pesos sinápticos\n",
        "n = X.shape[1]\n",
        "synaptic_weights = 2 * np.random.random((n, 1)) - 1\n",
        "\n",
        "# Función para evaluar la red neuronal\n",
        "eval_NN = lambda x, w: sigmoid(np.dot(x, w))"
      ],
      "metadata": {
        "id": "_Ra61IU9Ef4v"
      },
      "execution_count": null,
      "outputs": []
    },
    {
      "cell_type": "markdown",
      "source": [
        "El conjunto de datos se divide en conjuntos de entrenamiento (X_train, y_train) y prueba (X_test, y_test). Esto permite evaluar el rendimiento del modelo en datos no vistos.\n",
        "Los pesos sinápticos se inicializan de manera aleatoria con valores en el rango (-1, 1)."
      ],
      "metadata": {
        "id": "-W1jaDd-ZVwz"
      }
    },
    {
      "cell_type": "code",
      "source": [
        "# Entrenamiento de la red neuronal\n",
        "for iteration in range(10000):\n",
        "    input_layer = X_train\n",
        "    outputs = eval_NN(input_layer, synaptic_weights)\n",
        "    error = y_train.reshape(-1, 1) - outputs\n",
        "    adjustments = error * sigmoid_derivative(outputs)\n",
        "    synaptic_weights += np.dot(input_layer.T, adjustments)\n",
        "\n",
        "print('Pesos sinápticos después del entrenamiento:')\n",
        "print(synaptic_weights)\n",
        "\n",
        "# Evaluar el modelo en el conjunto de prueba\n",
        "test_outputs = eval_NN(X_test, synaptic_weights)\n",
        "threshold = 0.5\n",
        "predicted_labels = [1 if output > threshold else 0 for output in test_outputs]\n",
        "\n",
        "# Calcular la precisión del modelo\n",
        "accuracy = np.mean(predicted_labels == y_test)\n",
        "print(f\"Precisión en el conjunto de prueba: {accuracy*100:.2f}%\")"
      ],
      "metadata": {
        "colab": {
          "base_uri": "https://localhost:8080/"
        },
        "id": "R-i6_RXdZ8-C",
        "outputId": "250b1309-fc49-4fad-bc49-2464af9f717e"
      },
      "execution_count": null,
      "outputs": [
        {
          "output_type": "stream",
          "name": "stdout",
          "text": [
            "Pesos sinápticos después del entrenamiento:\n",
            "[[138.20253349]\n",
            " [ 28.59761608]\n",
            " [ 44.23276018]\n",
            " [  8.52878341]]\n",
            "Precisión en el conjunto de prueba: 8.53%\n"
          ]
        }
      ]
    },
    {
      "cell_type": "markdown",
      "source": [
        "El bucle for se utiliza para iterar a través de 10,000 iteraciones de entrenamiento. Durante cada iteración, se realiza lo siguiente:\n",
        "\n",
        "Se calculan las salidas de la red neuronal usando la función eval_NN.\n",
        "Se calcula el error entre las salidas y las etiquetas reales.\n",
        "Se ajustan los pesos sinápticos utilizando la regla de aprendizaje de retropropagación."
      ],
      "metadata": {
        "id": "6-mnxqoaaazj"
      }
    },
    {
      "cell_type": "markdown",
      "source": [
        "Las salidas de la red neuronal en el conjunto de prueba se calculan y se comparan con un umbral (0.5) para predecir etiquetas binarias (1 o 0)."
      ],
      "metadata": {
        "id": "eCs1fMYFat_t"
      }
    }
  ]
}